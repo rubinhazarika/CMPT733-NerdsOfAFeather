{
  "nbformat": 4,
  "nbformat_minor": 0,
  "metadata": {
    "colab": {
      "provenance": []
    },
    "kernelspec": {
      "name": "python3",
      "display_name": "Python 3"
    },
    "language_info": {
      "name": "python"
    }
  },
  "cells": [
    {
      "cell_type": "code",
      "source": [
        "from google.colab import drive\n",
        "drive.mount('/content/drive')"
      ],
      "metadata": {
        "colab": {
          "base_uri": "https://localhost:8080/"
        },
        "id": "QDSdN4HNH0-n",
        "outputId": "42a5bad2-27a6-4169-bdf7-2971f23373cf"
      },
      "execution_count": null,
      "outputs": [
        {
          "output_type": "stream",
          "name": "stdout",
          "text": [
            "Mounted at /content/drive\n"
          ]
        }
      ]
    },
    {
      "cell_type": "code",
      "source": [
        "import string\n",
        "with open('/content/drive/My Drive/30k.txt', 'r', encoding = 'utf-8') as f:\n",
        "    image_captions = f.readlines()\n",
        "    \n",
        "image = [line.split('\\t')[0].strip()[:-2] for line in image_captions]\n",
        "\n",
        "# # Extract captions from each line of the text file\n",
        "captions = [line.split('\\t')[1].strip() for line in image_captions]\n",
        "captions = [caption.translate(str.maketrans('', '', string.punctuation)) for caption in captions]\n",
        "\n",
        "image.insert(0, 'image')\n",
        "captions.insert(0, 'caption')"
      ],
      "metadata": {
        "id": "iEjEBSnRCi5y"
      },
      "execution_count": null,
      "outputs": []
    },
    {
      "cell_type": "code",
      "execution_count": null,
      "metadata": {
        "colab": {
          "base_uri": "https://localhost:8080/"
        },
        "id": "FgKII2QACbHy",
        "outputId": "83e79985-21ac-40d3-9670-0d669b6702fa"
      },
      "outputs": [
        {
          "output_type": "stream",
          "name": "stderr",
          "text": [
            "[nltk_data] Downloading package punkt to /root/nltk_data...\n",
            "[nltk_data]   Unzipping tokenizers/punkt.zip.\n",
            "[nltk_data] Downloading package averaged_perceptron_tagger to\n",
            "[nltk_data]     /root/nltk_data...\n",
            "[nltk_data]   Unzipping taggers/averaged_perceptron_tagger.zip.\n"
          ]
        }
      ],
      "source": [
        "import nltk\n",
        "from nltk.tokenize import word_tokenize\n",
        "from nltk.tag import pos_tag\n",
        "nltk.download('punkt')\n",
        "nltk.download('averaged_perceptron_tagger')\n",
        "\n",
        "\n",
        "\n",
        "# Extract specific tokens from each caption\n",
        "extracted_tokens = []\n",
        "for caption in captions:\n",
        "    # Tokenize the caption\n",
        "    tokens = word_tokenize(caption)\n",
        "\n",
        "    # Tag each token with its part of speech\n",
        "    tagged_tokens = pos_tag(tokens)\n",
        "\n",
        "    # Extract specific tokens based on their part of speech\n",
        "    nouns = [token[0] for token in tagged_tokens if token[1].startswith(\"N\")]\n",
        "    verbs = [token[0] for token in tagged_tokens if token[1].startswith(\"V\")]\n",
        "    adjectives = [token[0] for token in tagged_tokens if token[1].startswith(\"J\")]\n",
        "\n",
        "    # Combine extracted tokens into meaningful phrases\n",
        "    noun_phrases = []\n",
        "    current_phrase = []\n",
        "    for token in tagged_tokens:\n",
        "        if token[1].startswith(\"N\"):\n",
        "            current_phrase.append(token[0])\n",
        "        elif current_phrase:\n",
        "            # Combine consecutive nouns into noun phrases\n",
        "            noun_phrases.append(\" \".join(current_phrase))\n",
        "            current_phrase = []\n",
        "    if current_phrase:\n",
        "        noun_phrases.append(\" \".join(current_phrase))\n",
        "\n",
        "    verb_phrases = verbs\n",
        "\n",
        "    adjective_phrases = []\n",
        "    current_phrase = []\n",
        "    for token in tagged_tokens:\n",
        "        if token[1].startswith(\"J\"):\n",
        "            current_phrase.append(token[0])\n",
        "        elif current_phrase:\n",
        "            # Combine consecutive adjectives into adjective phrases\n",
        "            adjective_phrases.append(\" \".join(current_phrase))\n",
        "            current_phrase = []\n",
        "    if current_phrase:\n",
        "        adjective_phrases.append(\" \".join(current_phrase))\n",
        "\n",
        "    # Combine all extracted phrases into a single list of tokens\n",
        "    extracted_tokens.append(list(set(noun_phrases + verb_phrases + adjective_phrases)))\n",
        "\n",
        "\n",
        "# Save extracted tokens to a new file\n",
        "with open('tags30k.txt', 'w') as f:\n",
        "    for i in range(len(extracted_tokens)):\n",
        "        f.write(image[i] + ','  +' '.join(extracted_tokens[i]) + '\\n')"
      ]
    },
    {
      "cell_type": "code",
      "source": [],
      "metadata": {
        "id": "hW-Ip6mOD0n4"
      },
      "execution_count": null,
      "outputs": []
    }
  ]
}