{
 "cells": [
  {
   "cell_type": "markdown",
   "id": "5b90017e",
   "metadata": {},
   "source": [
    "## Token Extractor \n",
    "This script just takes the captioned files, tokenizes them to keep the essential parts of speech and creates a new file with image name and tokens in the same directory. "
   ]
  },
  {
   "cell_type": "code",
   "execution_count": 50,
   "id": "5f012342",
   "metadata": {},
   "outputs": [
    {
     "name": "stderr",
     "output_type": "stream",
     "text": [
      "[nltk_data] Downloading package punkt to\n",
      "[nltk_data]     C:\\Users\\Rubin\\AppData\\Roaming\\nltk_data...\n",
      "[nltk_data]   Package punkt is already up-to-date!\n",
      "[nltk_data] Downloading package averaged_perceptron_tagger to\n",
      "[nltk_data]     C:\\Users\\Rubin\\AppData\\Roaming\\nltk_data...\n",
      "[nltk_data]   Package averaged_perceptron_tagger is already up-to-\n",
      "[nltk_data]       date!\n"
     ]
    }
   ],
   "source": [
    "# function that creates tokens\n",
    "import nltk\n",
    "from nltk.tokenize import word_tokenize\n",
    "from nltk.tag import pos_tag\n",
    "nltk.download('punkt')\n",
    "nltk.download('averaged_perceptron_tagger')\n",
    "\n",
    "def extract_tokens(captions):\n",
    "    # Extract specific tokens from each caption\n",
    "    extracted_tokens = []\n",
    "    for caption in captions:\n",
    "        # Tokenize the caption\n",
    "        tokens = word_tokenize(caption)\n",
    "\n",
    "        # Tag each token with its part of speech\n",
    "        tagged_tokens = pos_tag(tokens)\n",
    "\n",
    "        # Extract specific tokens based on their part of speech\n",
    "        nouns = [token[0] for token in tagged_tokens if token[1].startswith(\"N\")]\n",
    "        verbs = [token[0] for token in tagged_tokens if token[1].startswith(\"V\")]\n",
    "        adjectives = [token[0] for token in tagged_tokens if token[1].startswith(\"J\")]\n",
    "\n",
    "        # Combine extracted tokens into meaningful phrases\n",
    "        noun_phrases = []\n",
    "        current_phrase = []\n",
    "        for token in tagged_tokens:\n",
    "            if token[1].startswith(\"N\"):\n",
    "                current_phrase.append(token[0])\n",
    "            elif current_phrase:\n",
    "                # Combine consecutive nouns into noun phrases\n",
    "                noun_phrases.append(\" \".join(current_phrase))\n",
    "                current_phrase = []\n",
    "        if current_phrase:\n",
    "            noun_phrases.append(\" \".join(current_phrase))\n",
    "\n",
    "        verb_phrases = verbs\n",
    "\n",
    "        adjective_phrases = []\n",
    "        current_phrase = []\n",
    "        for token in tagged_tokens:\n",
    "            if token[1].startswith(\"J\"):\n",
    "                current_phrase.append(token[0])\n",
    "            elif current_phrase:\n",
    "                # Combine consecutive adjectives into adjective phrases\n",
    "                adjective_phrases.append(\" \".join(current_phrase))\n",
    "                current_phrase = []\n",
    "        if current_phrase:\n",
    "            adjective_phrases.append(\" \".join(current_phrase))\n",
    "\n",
    "        # Combine all extracted phrases into a single list of tokens\n",
    "        extracted_tokens.append(list(set(noun_phrases + verbs + adjective_phrases)))\n",
    "        \n",
    "    return extracted_tokens"
   ]
  },
  {
   "cell_type": "markdown",
   "id": "9602cf23",
   "metadata": {},
   "source": [
    "First we import the image caption data as-is"
   ]
  },
  {
   "cell_type": "code",
   "execution_count": 51,
   "id": "06e46066",
   "metadata": {},
   "outputs": [],
   "source": [
    "# This part just imports and cleans the captions\n",
    "import os, sys, string\n",
    "\n",
    "captions = \"8kcaptions.txt\"\n",
    "\n",
    "with open(os.path.join(sys.path[0], captions), \"r\", encoding=\"utf8\") as f:\n",
    "    image_data = f.readlines()\n",
    "\n",
    "if \"8k\" in captions:\n",
    "    sep = ','\n",
    "elif \"30k\" in captions:\n",
    "    sep = '\\t'\n",
    "    \n",
    "# separate image names and captions (for 8k)\n",
    "im_names = [line.split(sep)[0].strip() for line in image_data]\n",
    "im_captions = [line.split(sep)[1].strip() for line in image_data]"
   ]
  },
  {
   "cell_type": "markdown",
   "id": "11f9f15a",
   "metadata": {},
   "source": [
    "Next, we get isolate the i-th caption for each image. Each image has 5 captions. **WE DON'T DO THIS ANYMORE - the model is trained on all 5 captions**"
   ]
  },
  {
   "cell_type": "code",
   "execution_count": 52,
   "id": "284b1898",
   "metadata": {},
   "outputs": [],
   "source": [
    "# # get only captions in i_idx index for each image\n",
    "# i_idx = 0\n",
    "# im_names = im_names[i_idx+1::5]\n",
    "# im_captions = im_captions[i_idx+1::5]\n",
    "\n",
    "# remove all punctuation from the strings\n",
    "im_captions = [caption.translate(str.maketrans('', '', string.punctuation)) for caption in im_captions]"
   ]
  },
  {
   "cell_type": "markdown",
   "id": "8276a477",
   "metadata": {},
   "source": [
    "Then we feed the captions into the tokenizer"
   ]
  },
  {
   "cell_type": "code",
   "execution_count": 53,
   "id": "73a68961",
   "metadata": {},
   "outputs": [],
   "source": [
    "extracted_tokens = extract_tokens(im_captions)"
   ]
  },
  {
   "cell_type": "markdown",
   "id": "29f9d430",
   "metadata": {},
   "source": [
    "Finally, we store it back in the same directory with the names and tokens"
   ]
  },
  {
   "cell_type": "code",
   "execution_count": 54,
   "id": "f1993b48",
   "metadata": {},
   "outputs": [],
   "source": [
    "with open('tokenized_' + captions, 'w') as f:\n",
    "    for i in range(len(extracted_tokens)):\n",
    "        f.write(im_names[i] +\n",
    "                ',' +\n",
    "                ' '.join(extracted_tokens[i]) + \n",
    "                '\\n')"
   ]
  }
 ],
 "metadata": {
  "kernelspec": {
   "display_name": "Python 3 (ipykernel)",
   "language": "python",
   "name": "python3"
  },
  "language_info": {
   "codemirror_mode": {
    "name": "ipython",
    "version": 3
   },
   "file_extension": ".py",
   "mimetype": "text/x-python",
   "name": "python",
   "nbconvert_exporter": "python",
   "pygments_lexer": "ipython3",
   "version": "3.9.13"
  }
 },
 "nbformat": 4,
 "nbformat_minor": 5
}
