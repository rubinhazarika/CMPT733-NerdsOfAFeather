{
 "cells": [
  {
   "cell_type": "code",
   "execution_count": 13,
   "metadata": {
    "id": "iEjEBSnRCi5y"
   },
   "outputs": [],
   "source": [
    "import string\n",
    "with open('captions.txt', 'r') as f:\n",
    "    image_captions = f.readlines()\n",
    "\n",
    "# Extract captions from each line of the text file\n",
    "captions = [line.split(',')[1].strip() for line in image_captions]\n",
    "captions = [caption.translate(str.maketrans('', '', string.punctuation)) for caption in captions]\n",
    "\n",
    "\n",
    "# Save extracted captions to a new file\n",
    "with open('flickr_captions.txt', 'w') as f:\n",
    "    for caption in captions:\n",
    "        f.write(caption + '\\n')\n"
   ]
  },
  {
   "cell_type": "code",
   "execution_count": null,
   "metadata": {
    "colab": {
     "base_uri": "https://localhost:8080/"
    },
    "id": "FgKII2QACbHy",
    "outputId": "ee5b261f-7595-4614-a6fa-c4743f2bebb3"
   },
   "outputs": [
    {
     "name": "stderr",
     "output_type": "stream",
     "text": [
      "[nltk_data] Downloading package punkt to /root/nltk_data...\n",
      "[nltk_data]   Package punkt is already up-to-date!\n",
      "[nltk_data] Downloading package averaged_perceptron_tagger to\n",
      "[nltk_data]     /root/nltk_data...\n",
      "[nltk_data]   Package averaged_perceptron_tagger is already up-to-\n",
      "[nltk_data]       date!\n"
     ]
    }
   ],
   "source": [
    "import nltk\n",
    "from nltk.tokenize import word_tokenize\n",
    "from nltk.tag import pos_tag\n",
    "nltk.download('punkt')\n",
    "nltk.download('averaged_perceptron_tagger')\n",
    "\n",
    "# Read captions from a text file\n",
    "with open('captions_extracted.txt', 'r') as f:\n",
    "    captions = f.readlines()\n",
    "\n",
    "# Extract specific tokens from each caption\n",
    "extracted_tokens = []\n",
    "for caption in captions:\n",
    "    # Tokenize the caption\n",
    "    tokens = word_tokenize(caption)\n",
    "\n",
    "    # Tag each token with its part of speech\n",
    "    tagged_tokens = pos_tag(tokens)\n",
    "\n",
    "    # Extract specific tokens based on their part of speech\n",
    "    nouns = [token[0] for token in tagged_tokens if token[1].startswith(\"N\")]\n",
    "    # verbs = [token[0] for token in tagged_tokens if token[1].startswith(\"V\")]\n",
    "    adjectives = [token[0] for token in tagged_tokens if token[1].startswith(\"J\")]\n",
    "\n",
    "    # Combine extracted tokens into meaningful phrases\n",
    "    noun_phrases = []\n",
    "    current_phrase = []\n",
    "    for token in tagged_tokens:\n",
    "        if token[1].startswith(\"N\"):\n",
    "            current_phrase.append(token[0])\n",
    "        elif current_phrase:\n",
    "            # Combine consecutive nouns into noun phrases\n",
    "            noun_phrases.append(\" \".join(current_phrase))\n",
    "            current_phrase = []\n",
    "    if current_phrase:\n",
    "        noun_phrases.append(\" \".join(current_phrase))\n",
    "\n",
    "    # verb_phrases = verbs\n",
    "\n",
    "    adjective_phrases = []\n",
    "    current_phrase = []\n",
    "    for token in tagged_tokens:\n",
    "        if token[1].startswith(\"J\"):\n",
    "            current_phrase.append(token[0])\n",
    "        elif current_phrase:\n",
    "            # Combine consecutive adjectives into adjective phrases\n",
    "            adjective_phrases.append(\" \".join(current_phrase))\n",
    "            current_phrase = []\n",
    "    if current_phrase:\n",
    "        adjective_phrases.append(\" \".join(current_phrase))\n",
    "\n",
    "    # Combine all extracted phrases into a single list of tokens\n",
    "    extracted_tokens.append(list(set(noun_phrases + adjective_phrases)))\n",
    "\n",
    "\n",
    "# Save extracted tokens to a new file\n",
    "with open('extracted_tokens.txt', 'w') as f:\n",
    "    for tokens in extracted_tokens:\n",
    "        f.write(','.join(tokens) + '\\n')"
   ]
  },
  {
   "cell_type": "code",
   "execution_count": null,
   "metadata": {
    "id": "hW-Ip6mOD0n4"
   },
   "outputs": [],
   "source": []
  }
 ],
 "metadata": {
  "colab": {
   "provenance": []
  },
  "kernelspec": {
   "display_name": "Python 3 (ipykernel)",
   "language": "python",
   "name": "python3"
  },
  "language_info": {
   "codemirror_mode": {
    "name": "ipython",
    "version": 3
   },
   "file_extension": ".py",
   "mimetype": "text/x-python",
   "name": "python",
   "nbconvert_exporter": "python",
   "pygments_lexer": "ipython3",
   "version": "3.9.13"
  }
 },
 "nbformat": 4,
 "nbformat_minor": 1
}
