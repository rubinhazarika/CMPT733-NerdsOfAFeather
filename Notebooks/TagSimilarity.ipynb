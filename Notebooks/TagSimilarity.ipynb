{
 "cells": [
  {
   "cell_type": "markdown",
   "id": "da836da7",
   "metadata": {},
   "source": [
    "# Tag Similarity\n",
    "\n",
    "The goal of this code:\n",
    "1. Take the output from our model (text file with 1) image file names and 2) tokenized caption)\n",
    "2. Take a user phrase\n",
    "3. Convert user phrase to tokens (using same tokenization algorithm as our model) \n",
    "4. Use a syntactic similarity method (we don't need something semantic like WordNet because our input is only tags) to find if 2 sets of tags are similar\n",
    "5. Compile a (shortened) file with image file names and tokenized captions that are sufficiently similar to the user phrase"
   ]
  },
  {
   "cell_type": "markdown",
   "id": "5f431b5a",
   "metadata": {},
   "source": [
    "### Building pseudo model output\n",
    "\n",
    "Since our model is not yet ready, I'm just going to create a sample set of model output by applying our tokenization algorithm to the original 8k captions. This will yield a set of 'tokenized' captions."
   ]
  },
  {
   "cell_type": "code",
   "execution_count": 17,
   "id": "b6e72f47",
   "metadata": {},
   "outputs": [],
   "source": [
    "# This part just imports and cleans the captions\n",
    "import os, sys, string\n",
    "\n",
    "captions = \"captions.txt\"\n",
    "with open(os.path.join(sys.path[0], captions), \"r\") as f:\n",
    "    image_data = f.readlines()\n",
    "\n",
    "# separate image names and captions\n",
    "im_names = [line.split(\",\")[0].strip() for line in image_data]\n",
    "im_captions = [line.split(\",\")[1].strip() for line in image_data]\n",
    "\n",
    "# remove all punctuation from the strings\n",
    "im_captions = [caption.translate(str.maketrans('', '', string.punctuation)) for caption in im_captions]"
   ]
  },
  {
   "cell_type": "code",
   "execution_count": 20,
   "id": "94b1ab40",
   "metadata": {},
   "outputs": [
    {
     "name": "stderr",
     "output_type": "stream",
     "text": [
      "[nltk_data] Downloading package punkt to\n",
      "[nltk_data]     C:\\Users\\Rubin\\AppData\\Roaming\\nltk_data...\n",
      "[nltk_data]   Package punkt is already up-to-date!\n",
      "[nltk_data] Downloading package averaged_perceptron_tagger to\n",
      "[nltk_data]     C:\\Users\\Rubin\\AppData\\Roaming\\nltk_data...\n",
      "[nltk_data]   Package averaged_perceptron_tagger is already up-to-\n",
      "[nltk_data]       date!\n"
     ]
    }
   ],
   "source": [
    "# function that creates tokens\n",
    "import nltk\n",
    "from nltk.tokenize import word_tokenize\n",
    "from nltk.tag import pos_tag\n",
    "nltk.download('punkt')\n",
    "nltk.download('averaged_perceptron_tagger')\n",
    "\n",
    "def extract_tokens(captions):\n",
    "    # Extract specific tokens from each caption\n",
    "    extracted_tokens = []\n",
    "    for caption in captions:\n",
    "        # Tokenize the caption\n",
    "        tokens = word_tokenize(caption)\n",
    "\n",
    "        # Tag each token with its part of speech\n",
    "        tagged_tokens = pos_tag(tokens)\n",
    "\n",
    "        # Extract specific tokens based on their part of speech\n",
    "        nouns = [token[0] for token in tagged_tokens if token[1].startswith(\"N\")]\n",
    "        verbs = [token[0] for token in tagged_tokens if token[1].startswith(\"V\")]\n",
    "        adjectives = [token[0] for token in tagged_tokens if token[1].startswith(\"J\")]\n",
    "\n",
    "        # Combine extracted tokens into meaningful phrases\n",
    "        noun_phrases = []\n",
    "        current_phrase = []\n",
    "        for token in tagged_tokens:\n",
    "            if token[1].startswith(\"N\"):\n",
    "                current_phrase.append(token[0])\n",
    "            elif current_phrase:\n",
    "                # Combine consecutive nouns into noun phrases\n",
    "                noun_phrases.append(\" \".join(current_phrase))\n",
    "                current_phrase = []\n",
    "        if current_phrase:\n",
    "            noun_phrases.append(\" \".join(current_phrase))\n",
    "\n",
    "        verb_phrases = verbs\n",
    "\n",
    "        adjective_phrases = []\n",
    "        current_phrase = []\n",
    "        for token in tagged_tokens:\n",
    "            if token[1].startswith(\"J\"):\n",
    "                current_phrase.append(token[0])\n",
    "            elif current_phrase:\n",
    "                # Combine consecutive adjectives into adjective phrases\n",
    "                adjective_phrases.append(\" \".join(current_phrase))\n",
    "                current_phrase = []\n",
    "        if current_phrase:\n",
    "            adjective_phrases.append(\" \".join(current_phrase))\n",
    "\n",
    "        # Combine all extracted phrases into a single list of tokens\n",
    "        extracted_tokens.append(list(set(noun_phrases + verbs + adjective_phrases)))\n",
    "        \n",
    "    return extracted_tokens"
   ]
  },
  {
   "cell_type": "code",
   "execution_count": 29,
   "id": "e916a90e",
   "metadata": {},
   "outputs": [],
   "source": [
    "# this part extracts and saves the tokens\n",
    "# extract tokens\n",
    "extracted_tokens = extract_tokens(im_captions)\n",
    "\n",
    "# Save extracted tokens to a new file \n",
    "# *** WE ARE NOT SAVING WITH COMMA DELIMITERS ***\n",
    "with open('extracted_tokens.txt', 'w') as f:\n",
    "    for tokens in extracted_tokens:\n",
    "        f.write(' '.join(tokens) + '\\n')"
   ]
  },
  {
   "cell_type": "markdown",
   "id": "6f43b9ea",
   "metadata": {},
   "source": [
    "### User input\n",
    "\n",
    "We now consume input from the user and tokenize it using the same methodology as for our captions. \n",
    "\n",
    "For now, this will ONLY be a phrase. In the future, we will want to be able to consume an image from the user and generate tags."
   ]
  },
  {
   "cell_type": "code",
   "execution_count": 28,
   "id": "cd1c4786",
   "metadata": {},
   "outputs": [],
   "source": [
    "user_phrase = \"A man with a helmet climbing a rock\"\n",
    "user_tokens = extract_tokens([user_phrase])"
   ]
  },
  {
   "cell_type": "markdown",
   "id": "5e21dcb5",
   "metadata": {},
   "source": [
    "### Phrase Similarity Models\n",
    "\n",
    "Now, we want to test different text similarity models:\n",
    "1. Sorted Fuzzy ratio\n",
    "2. Common words ratio\n",
    "3. Cosine similarity with SBERT embeddings \n",
    "4. Jaccard distance with SBERT embeddings\n"
   ]
  },
  {
   "cell_type": "code",
   "execution_count": 33,
   "id": "50485696",
   "metadata": {},
   "outputs": [],
   "source": [
    "# import tokens already extracted from the dataset\n",
    "with open(os.path.join(sys.path[0], 'extracted_tokens.txt'), \"r\") as f:\n",
    "    ext_tokens = f.readlines()\n",
    "\n",
    "ext_tokens = [line.strip() for line in ext_tokens]"
   ]
  },
  {
   "cell_type": "markdown",
   "id": "6efa0df4",
   "metadata": {},
   "source": [
    "##### SBERT Embedding"
   ]
  }
 ],
 "metadata": {
  "kernelspec": {
   "display_name": "Python 3 (ipykernel)",
   "language": "python",
   "name": "python3"
  },
  "language_info": {
   "codemirror_mode": {
    "name": "ipython",
    "version": 3
   },
   "file_extension": ".py",
   "mimetype": "text/x-python",
   "name": "python",
   "nbconvert_exporter": "python",
   "pygments_lexer": "ipython3",
   "version": "3.9.13"
  }
 },
 "nbformat": 4,
 "nbformat_minor": 5
}
