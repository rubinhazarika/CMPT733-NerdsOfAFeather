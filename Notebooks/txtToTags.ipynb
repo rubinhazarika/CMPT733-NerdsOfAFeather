{
 "cells": [
  {
   "cell_type": "code",
   "execution_count": 1,
   "id": "e1312461",
   "metadata": {},
   "outputs": [],
   "source": [
    "caption = 'A man lays on the bench to which a white dog is also tied'"
   ]
  },
  {
   "cell_type": "code",
   "execution_count": 2,
   "id": "30ed2db6",
   "metadata": {
    "scrolled": true
   },
   "outputs": [
    {
     "name": "stderr",
     "output_type": "stream",
     "text": [
      "[nltk_data] Downloading package punkt to\n",
      "[nltk_data]     C:\\Users\\owais\\AppData\\Roaming\\nltk_data...\n",
      "[nltk_data]   Package punkt is already up-to-date!\n",
      "[nltk_data] Downloading package averaged_perceptron_tagger to\n",
      "[nltk_data]     C:\\Users\\owais\\AppData\\Roaming\\nltk_data...\n",
      "[nltk_data]   Package averaged_perceptron_tagger is already up-to-\n",
      "[nltk_data]       date!\n"
     ]
    }
   ],
   "source": [
    "import nltk\n",
    "from nltk.tokenize import word_tokenize\n",
    "from nltk.tag import pos_tag\n",
    "nltk.download('punkt')\n",
    "nltk.download('averaged_perceptron_tagger')\n",
    "\n",
    "\n",
    "# Tokenize the caption\n",
    "tokens = word_tokenize(caption)\n",
    "\n",
    "# Tag each token with its part of speech\n",
    "tagged_tokens = pos_tag(tokens)\n",
    "\n",
    "# Extract specific tokens based on their part of speech\n",
    "nouns = [token[0] for token in tagged_tokens if token[1].startswith(\"N\")]\n",
    "verbs = [token[0] for token in tagged_tokens if token[1].startswith(\"V\")]\n",
    "adjectives = [token[0] for token in tagged_tokens if token[1].startswith(\"J\")]\n",
    "\n",
    "# Combine extracted tokens into meaningful phrases\n",
    "noun_phrases = []\n",
    "current_phrase = []\n",
    "for token in tagged_tokens:\n",
    "    if token[1].startswith(\"N\"):\n",
    "        current_phrase.append(token[0])\n",
    "    elif current_phrase:\n",
    "        # Combine consecutive nouns into noun phrases\n",
    "        noun_phrases.append(\" \".join(current_phrase))\n",
    "        current_phrase = []\n",
    "if current_phrase:\n",
    "    noun_phrases.append(\" \".join(current_phrase))\n",
    "\n",
    "verb_phrases = verbs\n",
    "\n",
    "adjective_phrases = []\n",
    "current_phrase = []\n",
    "for token in tagged_tokens:\n",
    "    if token[1].startswith(\"J\"):\n",
    "        current_phrase.append(token[0])\n",
    "    elif current_phrase:\n",
    "        # Combine consecutive adjectives into adjective phrases\n",
    "        adjective_phrases.append(\" \".join(current_phrase))\n",
    "        current_phrase = []\n",
    "if current_phrase:\n",
    "    adjective_phrases.append(\" \".join(current_phrase))\n",
    "\n",
    "# Combine all extracted phrases into a single list of tokens\n",
    "extracted_tokens =  verb_phrases + adjective_phrases + noun_phrases \n"
   ]
  },
  {
   "cell_type": "code",
   "execution_count": 3,
   "id": "72e4901f",
   "metadata": {},
   "outputs": [
    {
     "data": {
      "text/plain": [
       "['lays', 'is', 'tied', 'white', 'man', 'bench', 'dog']"
      ]
     },
     "execution_count": 3,
     "metadata": {},
     "output_type": "execute_result"
    }
   ],
   "source": [
    "extracted_tokens"
   ]
  },
  {
   "cell_type": "code",
   "execution_count": null,
   "id": "ae6b16c2",
   "metadata": {},
   "outputs": [],
   "source": []
  }
 ],
 "metadata": {
  "kernelspec": {
   "display_name": "Python 3 (ipykernel)",
   "language": "python",
   "name": "python3"
  },
  "language_info": {
   "codemirror_mode": {
    "name": "ipython",
    "version": 3
   },
   "file_extension": ".py",
   "mimetype": "text/x-python",
   "name": "python",
   "nbconvert_exporter": "python",
   "pygments_lexer": "ipython3",
   "version": "3.10.9"
  }
 },
 "nbformat": 4,
 "nbformat_minor": 5
}
